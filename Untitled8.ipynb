{
  "nbformat": 4,
  "nbformat_minor": 0,
  "metadata": {
    "colab": {
      "provenance": [],
      "authorship_tag": "ABX9TyMjEVxMGa8ePiFB+5lGLTAx",
      "include_colab_link": true
    },
    "kernelspec": {
      "name": "python3",
      "display_name": "Python 3"
    },
    "language_info": {
      "name": "python"
    }
  },
  "cells": [
    {
      "cell_type": "markdown",
      "metadata": {
        "id": "view-in-github",
        "colab_type": "text"
      },
      "source": [
        "<a href=\"https://colab.research.google.com/github/Nishipta/selab/blob/main/Untitled8.ipynb\" target=\"_parent\"><img src=\"https://colab.research.google.com/assets/colab-badge.svg\" alt=\"Open In Colab\"/></a>"
      ]
    },
    {
      "cell_type": "code",
      "source": [
        "# 1: Hard-coding Variables for Weather Modeling\n",
        "# Weather modeling using hardcoded values\n",
        "T = 30  # Temperature\n",
        "H = 50  # Humidity\n",
        "W = 10  # Wind speed\n",
        "\n",
        "# Quadratic solution\n",
        "weather_model = 0.5 * T**2 - 0.2 * H + 0.1 * W - 15\n",
        "print(f\"Weather modeling result (hardcoded values): {weather_model}\")\n",
        "\n",
        "# 2: Keyboard Input for Weather Modeling\n",
        "# Weather modeling using keyboard input\n",
        "T = float(input(\"Enter the temperature (T): \"))\n",
        "H = float(input(\"Enter the humidity (H): \"))\n",
        "W = float(input(\"Enter the wind speed (W): \"))\n",
        "\n",
        "# Quadratic solution\n",
        "weather_model = 0.5 * T**2 - 0.2 * H + 0.1 * W - 15\n",
        "print(f\"Weather modeling result (keyboard input): {weather_model}\")\n",
        "\n",
        "# 3: Reading from a File (Single Set of Input)\n",
        "# Input File (input.txt):\n",
        "# 30 50 10\n",
        "\n",
        "try:\n",
        "    with open(\"input.txt\", \"r\") as file:\n",
        "        data = file.readline().strip().split()\n",
        "        T, H, W = map(float, data)  # Parse temperature, humidity, wind speed\n",
        "\n",
        "    # Quadratic solution\n",
        "    weather_model = 0.5 * T**2 - 0.2 * H + 0.1 * W - 15\n",
        "    print(f\"Weather modeling result (file input, single set): {weather_model}\")\n",
        "except FileNotFoundError:\n",
        "    print(\"Error: 'input.txt' file not found. Please check the file path.\")\n",
        "\n",
        "# 4: Reading from a File (Multiple Sets of Inputs)\n",
        "# Input File (inputs.txt):\n",
        "# 30 50 10\n",
        "# 25 60 15\n",
        "# 35 40 20\n",
        "\n",
        "try:\n",
        "    with open(\"inputs.txt\", \"r\") as file:\n",
        "        lines = file.readlines()\n",
        "\n",
        "    # Process each line\n",
        "    for idx, line in enumerate(lines):\n",
        "        T, H, W = map(float, line.strip().split())\n",
        "        weather_model = 0.5 * T**2 - 0.2 * H + 0.1 * W - 15\n",
        "        print(f\"Weather modeling result (set {idx + 1}): {weather_model}\")\n",
        "except FileNotFoundError:\n",
        "    print(\"Error: 'inputs.txt' file not found. Please check the file path.\")\n",
        "\n",
        "# 5. Using a Loop for Multiple Inputs from Keyboard\n",
        "# Weather modeling using keyboard input for multiple sets\n",
        "num_sets = int(input(\"Enter the number of input sets: \"))\n",
        "\n",
        "for i in range(num_sets):\n",
        "    print(f\"\\nSet {i + 1}:\")\n",
        "    T = float(input(\"Enter the temperature (T): \"))\n",
        "    H = float(input(\"Enter the humidity (H): \"))\n",
        "    W = float(input(\"Enter the wind speed (W): \"))\n",
        "\n",
        "    # Quadratic solution\n",
        "    weather_model = 0.5 * T**2 - 0.2 * H + 0.1 * W - 15\n",
        "    print(f\"Weather modeling result (set {i + 1}): {weather_model}\")"
      ],
      "metadata": {
        "colab": {
          "base_uri": "https://localhost:8080/"
        },
        "id": "Al9KWUNRv0Vk",
        "outputId": "36084b25-b86b-403f-9fd7-d60c474dda1e"
      },
      "execution_count": 2,
      "outputs": [
        {
          "output_type": "stream",
          "name": "stdout",
          "text": [
            "Weather modeling result (hardcoded values): 426.0\n",
            "Enter the temperature (T): 56\n",
            "Enter the humidity (H): 45\n",
            "Enter the wind speed (W): 33\n",
            "Weather modeling result (keyboard input): 1547.3\n",
            "Error: 'input.txt' file not found. Please check the file path.\n",
            "Error: 'inputs.txt' file not found. Please check the file path.\n",
            "Enter the number of input sets: 2\n",
            "\n",
            "Set 1:\n",
            "Enter the temperature (T): 54\n",
            "Enter the humidity (H): 56\n",
            "Enter the wind speed (W): 98\n",
            "Weather modeling result (set 1): 1441.6\n",
            "\n",
            "Set 2:\n",
            "Enter the temperature (T): 34\n",
            "Enter the humidity (H): 23\n",
            "Enter the wind speed (W): 12\n",
            "Weather modeling result (set 2): 559.6\n"
          ]
        }
      ]
    }
  ]
}